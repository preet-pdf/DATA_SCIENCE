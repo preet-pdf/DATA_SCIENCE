{
  "nbformat": 4,
  "nbformat_minor": 0,
  "metadata": {
    "colab": {
      "name": "18IT075_WEB_SCRAP.ipynb",
      "provenance": []
    },
    "kernelspec": {
      "name": "python3",
      "display_name": "Python 3"
    },
    "language_info": {
      "name": "python"
    }
  },
  "cells": [
    {
      "cell_type": "code",
      "metadata": {
        "colab": {
          "base_uri": "https://localhost:8080/"
        },
        "id": "teazrUzkob-a",
        "outputId": "14ed610c-c411-4fc8-f641-d5b9f2e42974"
      },
      "source": [
        "!pip install beautifulsoup4"
      ],
      "execution_count": 1,
      "outputs": [
        {
          "output_type": "stream",
          "text": [
            "Requirement already satisfied: beautifulsoup4 in /usr/local/lib/python3.7/dist-packages (4.6.3)\n"
          ],
          "name": "stdout"
        }
      ]
    },
    {
      "cell_type": "code",
      "metadata": {
        "id": "kHnOFaoLr1M2"
      },
      "source": [
        "import urllib.request as urllib2\n",
        "import csv\n",
        "import re\n",
        "from bs4 import BeautifulSoup"
      ],
      "execution_count": 2,
      "outputs": []
    },
    {
      "cell_type": "code",
      "metadata": {
        "id": "kL_OWleUr7ao"
      },
      "source": [
        "rank_page = 'https://socialblade.com/youtube/top/50/mostviewed'\n",
        "request = urllib2.Request(rank_page, headers={'User-Agent': 'your user-agent'})\n",
        "page = urllib2.urlopen(request)\n",
        "soup = BeautifulSoup(page, 'html.parser')"
      ],
      "execution_count": 3,
      "outputs": []
    },
    {
      "cell_type": "code",
      "metadata": {
        "id": "Tt1VjX2dr-mV"
      },
      "source": [
        "channels = soup.find('div', attrs={'style': 'float: right; width: 900px;'}).find_all('div', recursive=False)[4:]"
      ],
      "execution_count": 4,
      "outputs": []
    },
    {
      "cell_type": "code",
      "metadata": {
        "id": "6ZhsWcB1sFNX"
      },
      "source": [
        "file = open('topyoutubers.csv', 'w')\n",
        "writer = csv.writer(file)"
      ],
      "execution_count": 5,
      "outputs": []
    },
    {
      "cell_type": "code",
      "metadata": {
        "colab": {
          "base_uri": "https://localhost:8080/"
        },
        "id": "NQ3mFG5-sHnc",
        "outputId": "b56c85e9-073f-47f9-f9c8-8ec556c0ddd1"
      },
      "source": [
        "writer.writerow(['Username', 'Uploads', 'Views'])\n",
        " \n",
        "for channel in channels:\n",
        "    username = channel.find('div', attrs={'style': 'float: left; width: 350px; line-height: 25px;'}).a.text.strip()\n",
        "    uploads = channel.find('div', attrs={'style': 'float: left; width: 80px;'}).span.text.strip()\n",
        "    views = channel.find_all('div', attrs={'style': 'float: left; width: 150px;'})[1].span.text.strip()\n",
        " \n",
        "    print(username + ' ' + uploads + ' ' + views)\n",
        "    writer.writerow([username.encode('utf-8'), uploads.encode('utf-8'), views.encode('utf-8')])\n",
        " \n",
        "file.close()"
      ],
      "execution_count": 6,
      "outputs": [
        {
          "output_type": "stream",
          "text": [
            "T-Series 15,615 160,873,764,683\n",
            "Cocomelon - Nursery Rhymes 669 106,524,532,264\n",
            "SET India 62,087 94,037,940,401\n",
            "WWE 55,976 60,773,130,387\n",
            "Like Nastya 600 60,262,347,961\n",
            "✿ Kids Diana Show 901 60,156,910,773\n",
            "Sony SAB 38,800 58,733,222,222\n",
            "Movieclips 37,519 52,917,888,463\n",
            "Vlad and Niki 376 51,633,664,703\n",
            "Ryan's World 2,026 48,060,021,502\n",
            "netd müzik 16,448 44,644,913,314\n",
            "ABS-CBN Entertainment 161,731 43,396,243,602\n",
            "El Reino Infantil 1,040 41,754,784,143\n",
            "Zee Music Company 5,584 39,466,869,129\n",
            "Colors TV 60,437 37,187,193,043\n",
            "Canal KondZilla 1,943 35,004,971,739\n",
            "Little Baby Bum - Nursery Rhymes &… 1,502 33,436,152,856\n",
            "ChuChu TV Nursery Rhymes & Kids So… 419 32,883,965,830\n",
            "Wave Music 18,372 32,087,783,964\n",
            "WorkpointOfficial 56,232 31,033,722,720\n",
            "Toys and Colors 628 30,696,613,040\n",
            "Super Simple Songs - Kids Songs 557 29,418,346,909\n",
            "Маша и Медведь 990 29,167,652,360\n",
            "PewDiePie 4,378 27,606,078,012\n",
            "Get Movies 3,012 26,148,070,074\n",
            "Shemaroo Filmi Gaane 7,321 25,742,013,862\n",
            "Justin Bieber 228 25,538,320,495\n",
            "Pinkfong Baby Shark - Kids' Songs … 1,887 25,161,310,835\n",
            "one31 110,364 24,113,604,414\n",
            "LooLoo Kids - Nursery Rhymes and C… 508 24,099,063,536\n",
            "Ed Sheeran 174 24,007,903,525\n",
            "YRF 3,057 23,664,750,100\n",
            "JustinBieberVEVO 185 23,358,429,371\n",
            "GMANetwork 99,086 22,809,758,038\n",
            "قناة طيور الجنة | toy… 2,969 22,591,084,296\n",
            "Taylor Swift 188 22,590,103,523\n",
            "Katy Perry 107 22,214,124,948\n",
            "TheEllenShow 13,256 21,867,563,902\n",
            "SMTOWN 3,719 21,654,887,535\n",
            "Tips Official 3,079 21,559,789,416\n",
            "KatyPerryVEVO 164 21,317,028,900\n",
            "TaylorSwiftVEVO 196 21,232,905,466\n",
            "Shakira 254 21,120,715,805\n",
            "Ch3Thailand 81,532 20,948,753,400\n",
            "Speed Records 9,390 20,901,754,005\n",
            "5-Minute Crafts 4,778 20,625,771,801\n",
            "GMM GRAMMY OFFICIAL 9,540 20,582,939,633\n",
            "GR6 EXPLODE 3,753 20,457,046,045\n",
            "1theK (원더케이) 14,829 20,412,868,891\n",
            "EminemMusic 136 20,308,646,388\n"
          ],
          "name": "stdout"
        }
      ]
    },
    {
      "cell_type": "code",
      "metadata": {
        "id": "FxQlkL9WsJsx"
      },
      "source": [
        ""
      ],
      "execution_count": null,
      "outputs": []
    }
  ]
}